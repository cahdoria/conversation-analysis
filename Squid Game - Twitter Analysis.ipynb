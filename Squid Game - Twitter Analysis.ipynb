{
 "cells": [
  {
   "cell_type": "markdown",
   "metadata": {},
   "source": [
    "<img width=\"500\" style=\"float:center\" \n",
    "     src=\"https://images6.alphacoders.com/119/1191374.jpg\" />"
   ]
  },
  {
   "cell_type": "markdown",
   "metadata": {},
   "source": [
    "# Twitter User Analysis on #SquidGame Using Spark"
   ]
  },
  {
   "cell_type": "markdown",
   "metadata": {},
   "source": [
    "# Sections\n",
    "* [Description](#0)\n",
    "* [1. Setup](#1)\n",
    "  * [1.1 Start Hadoop](#1.1)  \n",
    "  * [1.2 PySpark environment setup](#1.2)\n",
    "  * [1.3 Create SparkSession](#1.3)\n",
    "* [2. Schema and DataFrames](#2)\n",
    "  * [2.1 Creating the DataFrames](#2.1)\n",
    "      * [2.a) Streaming DataFrame](#2.a)\n",
    "      * [2.b) Batch DataFrame](#2.b)\n",
    "  * [2.2 Join: Union to Connect both Data Frames](#2.2)\n",
    "  * [2.3 Adding three new columns to our Data-Frame](#2.3)\n",
    "* [3. Analyzing our Data](#3)\n",
    "* [4. TearDown](#4)\n",
    "  * [3.1 Stop Hadoop](#4.1)"
   ]
  },
  {
   "cell_type": "markdown",
   "metadata": {},
   "source": [
    "<a id='0'></a>\n",
    "## Description\n",
    "<p>\n",
    "<div> To find insights in regards to the conversation of Squid Game on Twitter, the exploratory analysis will be guided by the central premise of understanding the users and based on the following four different pillars: who are the users? Where are the users?  How are they tweeting? and What are they saying?\n",
    " </div>\n",
    " \n",
    " Sub-queries within the three main pillars:\n",
    "\n",
    "<ul class=\"roman\">\n",
    " <li>Who are the users?</li>\n",
    "    <ul class=\"square\">\n",
    "  <li>What is the ratio of Verified accounts in the conversation of SquidGame?</li>\n",
    "  <li> Who are the Top 5 users with more tweets published about #SquidGame?</li>\n",
    "  <li> Who are the top 5 verified accounts with the highest following?</li>\n",
    "  <li> Who are the Top 5 most followed accounts?</li>\n",
    "  <li> Does size matter? Does being verify guarantee following? </li>\n",
    " </ul>\n",
    " <li>What are users saying?\n",
    " <ul class=\"square\">\n",
    "  <li>What are the tweets of the verified accounts with the highest following?</li>\n",
    "  <li> What are the top 5 hashtags?</li>\n",
    "  <li> What are the most used words in the conversation?</li>\n",
    " </ul>\n",
    " </li>\n",
    " <li>How are they tweeting?\n",
    "     <ul class=\"square\">\n",
    "  <li> What are the 5 top locations users were tweeting at? </li>\n",
    "  <li> What are the top 5 operating systems used? </li>\n",
    "  <li> Do users tweet more with their phones or using their computers? </li>\n",
    "  <li> Does typing status matter per operating system? </li>\n",
    "  <li> What are the top 10 languages written per tweet distribution?</li>\n",
    "  <li> What is the average of words per tweet using the #SquidGame?</li>\n",
    "  <li> What are the Max and Average Number of Hashtags per tweet?</li>\n",
    "  <li> What is the ratio of typer status? </li>\n",
    "  <li> Were tweets retweeted?</li>\n",
    "  <li> How much are users tweeting by date? Can you find a pattern? </li>\n",
    "  <li> What are the top 5 hashtags?</li>\n",
    "  <li> Is there a pattern of type status by date?</li>\n",
    "  <li> Is there a pattern between verified accounts and the date they were typed?</li>\n",
    "     \n",
    "</ul>\n",
    "</ul>    \n",
    "</p>\n"
   ]
  },
  {
   "cell_type": "markdown",
   "metadata": {},
   "source": [
    "<a id='1'></a>\n",
    "## 1. Setup\n",
    "\n",
    "Since we are going to process data stored from HDFS, we had to start the service. Furthemore, we also need to set up the PySpark enviroment & create a SparkSession. "
   ]
  },
  {
   "cell_type": "markdown",
   "metadata": {},
   "source": [
    "<a id='1.1'></a>\n",
    "### 1.1 Start Hadoop\n",
    "\n",
    "Please, in order to verify this notebook, start HDFS in your computer. ☺️\n",
    "\n",
    "```sh\n",
    "hadoop-start.sh\n",
    "```"
   ]
  },
  {
   "cell_type": "markdown",
   "metadata": {},
   "source": [
    "<a id='1.2'></a>\n",
    "### 1.2 PySpark environment setup 🚀"
   ]
  },
  {
   "cell_type": "code",
   "execution_count": 2,
   "metadata": {},
   "outputs": [
    {
     "name": "stderr",
     "output_type": "stream",
     "text": [
      "WARNING: An illegal reflective access operation has occurred\n",
      "WARNING: Illegal reflective access by org.apache.spark.unsafe.Platform (file:/opt/spark3/jars/spark-unsafe_2.12-3.0.3.jar) to constructor java.nio.DirectByteBuffer(long,int)\n",
      "WARNING: Please consider reporting this to the maintainers of org.apache.spark.unsafe.Platform\n",
      "WARNING: Use --illegal-access=warn to enable warnings of further illegal reflective access operations\n",
      "WARNING: All illegal access operations will be denied in a future release\n",
      "Setting default log level to \"WARN\".\n",
      "To adjust logging level use sc.setLogLevel(newLevel). For SparkR, use setLogLevel(newLevel).\n"
     ]
    }
   ],
   "source": [
    "import findspark\n",
    "findspark.init()\n",
    "\n",
    "from pyspark.context import SparkContext\n",
    "from pyspark.sql.session import SparkSession\n",
    "\n",
    "sc = SparkContext.getOrCreate()\n",
    "spark = SparkSession(sc)\n",
    "\n",
    "import pandas as pd\n",
    "pd.set_option('display.max_colwidth', None)"
   ]
  },
  {
   "cell_type": "markdown",
   "metadata": {},
   "source": [
    "<a id='1.3'></a>\n",
    "### 1.3 Create SparkSession 💻"
   ]
  },
  {
   "cell_type": "code",
   "execution_count": 3,
   "metadata": {},
   "outputs": [],
   "source": [
    "import os\n",
    "os.environ['PYSPARK_SUBMIT_ARGS'] = '--jars /opt/hive3/lib/hive-hcatalog-core-3.1.2.jar pyspark-shell'"
   ]
  },
  {
   "cell_type": "code",
   "execution_count": 4,
   "metadata": {},
   "outputs": [],
   "source": [
    "from pyspark.sql.session import SparkSession\n",
    "\n",
    "spark = (SparkSession.builder\n",
    "    .appName(\"Squid Game - Group G\")\n",
    "    .config(\"spark.sql.warehouse.dir\",\"hdfs://localhost:9000/warehouse\")\n",
    "    .config(\"spark.sql.legacy.timeParserPolicy\",\"LEGACY\")\n",
    "    .enableHiveSupport()\n",
    "    .getOrCreate())"
   ]
  },
  {
   "cell_type": "markdown",
   "metadata": {},
   "source": [
    "<a id='2'></a>\n",
    "## 2. Schema and DataFrames 🖼\n",
    "We will be analyzing tweets about Squid Game on Twitter for our analysis. Importantly, we will use both batch data sources with a dataset retrieved from Kaggle and streaming data sources retrieved from Twitter using  Tweepy, an API, to extract tweets ingested with Nifi and then stored in HDFS. Hence, for our analysis, we had to create schemas and data frames with the same column names, types, & numbers to combine both using Union to one master dataframe."
   ]
  },
  {
   "cell_type": "markdown",
   "metadata": {},
   "source": [
    "<a id='2.1'></a>\n",
    "### 2.1 Creating the DataFrames\n",
    "\n",
    "<a id='2.a'></a>\n",
    "#### a) Streaming DataFrame:"
   ]
  },
  {
   "cell_type": "code",
   "execution_count": 5,
   "metadata": {},
   "outputs": [
    {
     "name": "stderr",
     "output_type": "stream",
     "text": [
      "                                                                                \r"
     ]
    }
   ],
   "source": [
    "streaming_general_DF = (spark.read\n",
    "              .json(\"hdfs://localhost:9000/user/osbdet/squidgame\"))"
   ]
  },
  {
   "cell_type": "code",
   "execution_count": 6,
   "metadata": {},
   "outputs": [
    {
     "name": "stdout",
     "output_type": "stream",
     "text": [
      "root\n",
      " |-- name: string (nullable = true)\n",
      " |-- location: string (nullable = true)\n",
      " |-- description: string (nullable = true)\n",
      " |-- twitter_created_at: string (nullable = true)\n",
      " |-- followers_count: long (nullable = true)\n",
      " |-- friends_count: long (nullable = true)\n",
      " |-- favourites_count: long (nullable = true)\n",
      " |-- verified: boolean (nullable = true)\n",
      " |-- created_at: string (nullable = true)\n",
      " |-- text: string (nullable = true)\n",
      " |-- source: string (nullable = true)\n",
      " |-- retweeted: boolean (nullable = true)\n",
      "\n"
     ]
    }
   ],
   "source": [
    "from pyspark.sql.functions import *\n",
    "streaming_DF_normalized = streaming_general_DF.select(col(\"user.name\").alias(\"name\"), col(\"user.location\").alias(\"location\"), col(\"user.description\").alias(\"description\"), col(\"user.created_at\").alias(\"twitter_created_at\"), col(\"user.followers_count\").alias(\"followers_count\"), col(\"user.friends_count\").alias(\"friends_count\"), col(\"user.favourites_count\").alias(\"favourites_count\"), col(\"user.verified\").alias(\"verified\"), \"created_at\", \"text\", \"source\", \"retweeted\")\n",
    "streaming_DF_normalized.printSchema()"
   ]
  },
  {
   "cell_type": "code",
   "execution_count": 7,
   "metadata": {},
   "outputs": [
    {
     "name": "stdout",
     "output_type": "stream",
     "text": [
      "+------------------------------+\n",
      "|created_at                    |\n",
      "+------------------------------+\n",
      "|Thu Dec 02 10:04:28 +0000 2021|\n",
      "+------------------------------+\n",
      "only showing top 1 row\n",
      "\n"
     ]
    }
   ],
   "source": [
    "streaming_DF_normalized.select('created_at').show(1, False) #Date in streaming data is \"EEE MMM dd HH:mm:ss Z yyyy\""
   ]
  },
  {
   "cell_type": "markdown",
   "metadata": {},
   "source": [
    "#### We found out that the date format, apart of being a string, is also as \"EEE MMM dd HH:mm:ss Z yyyy\", which is different than in the batch dataframe. Hence, there was a need to covert them to the same date format, and also transform the StringTpe to a DateType."
   ]
  },
  {
   "cell_type": "code",
   "execution_count": 8,
   "metadata": {},
   "outputs": [
    {
     "name": "stdout",
     "output_type": "stream",
     "text": [
      "root\n",
      " |-- name: string (nullable = true)\n",
      " |-- location: string (nullable = true)\n",
      " |-- description: string (nullable = true)\n",
      " |-- twitter_created_at: string (nullable = true)\n",
      " |-- followers_count: long (nullable = true)\n",
      " |-- friends_count: long (nullable = true)\n",
      " |-- favourites_count: long (nullable = true)\n",
      " |-- verified: boolean (nullable = true)\n",
      " |-- created_at: string (nullable = true)\n",
      " |-- text: string (nullable = true)\n",
      " |-- source: string (nullable = true)\n",
      " |-- retweeted: boolean (nullable = true)\n",
      " |-- created_at_date: date (nullable = true)\n",
      "\n",
      "+---------------+\n",
      "|created_at_date|\n",
      "+---------------+\n",
      "|     2021-12-02|\n",
      "+---------------+\n",
      "only showing top 1 row\n",
      "\n"
     ]
    }
   ],
   "source": [
    "from pyspark.sql.functions import unix_timestamp, from_unixtime\n",
    "\n",
    "streaming_DF_normalized = streaming_DF_normalized.withColumn('created_at_date', from_unixtime(\n",
    "    unix_timestamp(\"created_at\", \"EEE MMM dd HH:mm:ss Z yyyy\")))\n",
    "\n",
    "streaming_DF_normalized = streaming_DF_normalized.withColumn('created_at_date', \\\n",
    "                               to_date('created_at_date', 'yyyy-MM-dd'))\n",
    "\n",
    "streaming_DF_normalized.printSchema() # new columns with datetype successfully created\n",
    "streaming_DF_normalized.select('created_at_date').show(1) #date works "
   ]
  },
  {
   "cell_type": "code",
   "execution_count": 9,
   "metadata": {},
   "outputs": [
    {
     "name": "stderr",
     "output_type": "stream",
     "text": [
      "                                                                                \r"
     ]
    },
    {
     "data": {
      "text/plain": [
       "5636"
      ]
     },
     "execution_count": 9,
     "metadata": {},
     "output_type": "execute_result"
    }
   ],
   "source": [
    "streaming_DF_normalized.count()"
   ]
  },
  {
   "cell_type": "markdown",
   "metadata": {},
   "source": [
    "<a id='2.b'></a>\n",
    "#### b) Batch DataFrame:"
   ]
  },
  {
   "cell_type": "code",
   "execution_count": 10,
   "metadata": {},
   "outputs": [],
   "source": [
    "from pyspark.sql.types import *\n",
    "batch_customschema = StructType([\n",
    "StructField(\n",
    " \"name\", StringType(), True),StructField(\n",
    " \"location\", StringType(), True),StructField(\n",
    " \"description\", StringType(), True),StructField(\n",
    " \"twitter_created_at\", StringType(), True),StructField(\n",
    " \"followers_count\", LongType(), True),StructField(\n",
    " \"friends_count\", LongType(), True),StructField(\n",
    " \"favourites_count\", LongType(), True),StructField(\n",
    " \"verified\", BooleanType(), True),StructField(\n",
    " \"created_at\", StringType(), True),StructField(\n",
    " \"text\", StringType(), True),StructField(\n",
    " \"source\", StringType(), True),StructField(\n",
    " \"retweeted\", BooleanType(), True)])"
   ]
  },
  {
   "cell_type": "code",
   "execution_count": 11,
   "metadata": {},
   "outputs": [
    {
     "name": "stdout",
     "output_type": "stream",
     "text": [
      "root\n",
      " |-- name: string (nullable = true)\n",
      " |-- location: string (nullable = true)\n",
      " |-- description: string (nullable = true)\n",
      " |-- twitter_created_at: string (nullable = true)\n",
      " |-- followers_count: long (nullable = true)\n",
      " |-- friends_count: long (nullable = true)\n",
      " |-- favourites_count: long (nullable = true)\n",
      " |-- verified: boolean (nullable = true)\n",
      " |-- created_at: string (nullable = true)\n",
      " |-- text: string (nullable = true)\n",
      " |-- source: string (nullable = true)\n",
      " |-- retweeted: boolean (nullable = true)\n",
      "\n",
      "+-------------------------+\n",
      "|created_at               |\n",
      "+-------------------------+\n",
      "|2021-10-06 12:05:38+00:00|\n",
      "+-------------------------+\n",
      "only showing top 1 row\n",
      "\n"
     ]
    }
   ],
   "source": [
    "batch_DF = spark.read.format(\"csv\").options(header=\"true\", multiline=\"true\")\\\n",
    "    .schema(batch_customschema).load(\"hdfs://localhost:9000/user/osbdet/squidgame_batch\")\n",
    "\n",
    "batch_DF.printSchema()\n",
    "batch_DF.select('created_at').show(1, False)"
   ]
  },
  {
   "cell_type": "code",
   "execution_count": 12,
   "metadata": {},
   "outputs": [
    {
     "name": "stdout",
     "output_type": "stream",
     "text": [
      "root\n",
      " |-- name: string (nullable = true)\n",
      " |-- location: string (nullable = true)\n",
      " |-- description: string (nullable = true)\n",
      " |-- twitter_created_at: string (nullable = true)\n",
      " |-- followers_count: long (nullable = true)\n",
      " |-- friends_count: long (nullable = true)\n",
      " |-- favourites_count: long (nullable = true)\n",
      " |-- verified: boolean (nullable = true)\n",
      " |-- created_at: string (nullable = true)\n",
      " |-- text: string (nullable = true)\n",
      " |-- source: string (nullable = true)\n",
      " |-- retweeted: boolean (nullable = true)\n",
      " |-- created_at_date: date (nullable = true)\n",
      "\n"
     ]
    }
   ],
   "source": [
    "from pyspark.sql.types import DateType\n",
    "batch_DF = batch_DF.withColumn(\"created_at_date\", batch_DF['created_at'].cast(DateType()))\n",
    "batch_DF.printSchema()"
   ]
  },
  {
   "cell_type": "code",
   "execution_count": 13,
   "metadata": {},
   "outputs": [
    {
     "name": "stdout",
     "output_type": "stream",
     "text": [
      "+---------------+\n",
      "|created_at_date|\n",
      "+---------------+\n",
      "|     2021-10-06|\n",
      "+---------------+\n",
      "only showing top 1 row\n",
      "\n"
     ]
    }
   ],
   "source": [
    "batch_DF.select(\"created_at_date\").show(1) #date works "
   ]
  },
  {
   "cell_type": "code",
   "execution_count": 14,
   "metadata": {},
   "outputs": [
    {
     "data": {
      "text/plain": [
       "80793"
      ]
     },
     "execution_count": 14,
     "metadata": {},
     "output_type": "execute_result"
    }
   ],
   "source": [
    "batch_DF.count()"
   ]
  },
  {
   "cell_type": "markdown",
   "metadata": {},
   "source": [
    "<a id='2.2'></a>\n",
    "### 2.2 Join: Union to Connect both DataFrames 🫂\n",
    "To connect both datasets, streaming and not streaming. Count() was called to make sure the union worked and the sum between batch and stream worked correctly.\n"
   ]
  },
  {
   "cell_type": "code",
   "execution_count": 15,
   "metadata": {
    "scrolled": true
   },
   "outputs": [
    {
     "name": "stderr",
     "output_type": "stream",
     "text": [
      "                                                                                \r"
     ]
    },
    {
     "data": {
      "text/plain": [
       "86429"
      ]
     },
     "execution_count": 15,
     "metadata": {},
     "output_type": "execute_result"
    }
   ],
   "source": [
    "union_DF = streaming_DF_normalized.union(batch_DF)\n",
    "union_DF.count()"
   ]
  },
  {
   "cell_type": "markdown",
   "metadata": {},
   "source": [
    "<a id='2.3'></a>\n",
    "### 2.3 Adding three new columns to our Data-Frame"
   ]
  },
  {
   "cell_type": "code",
   "execution_count": 16,
   "metadata": {},
   "outputs": [],
   "source": [
    "import pyspark.sql.functions as f"
   ]
  },
  {
   "cell_type": "markdown",
   "metadata": {},
   "source": [
    "#### Adding a new column with the word count: 🧮\n"
   ]
  },
  {
   "cell_type": "code",
   "execution_count": 17,
   "metadata": {},
   "outputs": [
    {
     "name": "stdout",
     "output_type": "stream",
     "text": [
      "root\n",
      " |-- name: string (nullable = true)\n",
      " |-- location: string (nullable = true)\n",
      " |-- description: string (nullable = true)\n",
      " |-- twitter_created_at: string (nullable = true)\n",
      " |-- followers_count: long (nullable = true)\n",
      " |-- friends_count: long (nullable = true)\n",
      " |-- favourites_count: long (nullable = true)\n",
      " |-- verified: boolean (nullable = true)\n",
      " |-- created_at: string (nullable = true)\n",
      " |-- text: string (nullable = true)\n",
      " |-- source: string (nullable = true)\n",
      " |-- retweeted: boolean (nullable = true)\n",
      " |-- created_at_date: date (nullable = true)\n",
      " |-- wordCount: integer (nullable = false)\n",
      "\n"
     ]
    }
   ],
   "source": [
    "union_DF = union_DF.withColumn('wordCount', f.size(f.split(f.col('text'), ' ')))\n",
    "union_DF.printSchema() # used to check if the column was correctly added "
   ]
  },
  {
   "cell_type": "markdown",
   "metadata": {},
   "source": [
    "#### Using describe to understand the dispersion of words by tweet, in order to make a boolean dataframe as shown below:\n"
   ]
  },
  {
   "cell_type": "code",
   "execution_count": 18,
   "metadata": {
    "scrolled": false
   },
   "outputs": [
    {
     "name": "stderr",
     "output_type": "stream",
     "text": [
      "                                                                                \r"
     ]
    },
    {
     "data": {
      "text/html": [
       "<div>\n",
       "<style scoped>\n",
       "    .dataframe tbody tr th:only-of-type {\n",
       "        vertical-align: middle;\n",
       "    }\n",
       "\n",
       "    .dataframe tbody tr th {\n",
       "        vertical-align: top;\n",
       "    }\n",
       "\n",
       "    .dataframe thead th {\n",
       "        text-align: right;\n",
       "    }\n",
       "</style>\n",
       "<table border=\"1\" class=\"dataframe\">\n",
       "  <thead>\n",
       "    <tr style=\"text-align: right;\">\n",
       "      <th></th>\n",
       "      <th>summary</th>\n",
       "      <th>wordCount</th>\n",
       "    </tr>\n",
       "  </thead>\n",
       "  <tbody>\n",
       "    <tr>\n",
       "      <th>0</th>\n",
       "      <td>count</td>\n",
       "      <td>86429</td>\n",
       "    </tr>\n",
       "    <tr>\n",
       "      <th>1</th>\n",
       "      <td>mean</td>\n",
       "      <td>13.966631570421965</td>\n",
       "    </tr>\n",
       "    <tr>\n",
       "      <th>2</th>\n",
       "      <td>stddev</td>\n",
       "      <td>6.203672905729246</td>\n",
       "    </tr>\n",
       "    <tr>\n",
       "      <th>3</th>\n",
       "      <td>min</td>\n",
       "      <td>-1</td>\n",
       "    </tr>\n",
       "    <tr>\n",
       "      <th>4</th>\n",
       "      <td>max</td>\n",
       "      <td>93</td>\n",
       "    </tr>\n",
       "  </tbody>\n",
       "</table>\n",
       "</div>"
      ],
      "text/plain": [
       "  summary           wordCount\n",
       "0   count               86429\n",
       "1    mean  13.966631570421965\n",
       "2  stddev   6.203672905729246\n",
       "3     min                  -1\n",
       "4     max                  93"
      ]
     },
     "execution_count": 18,
     "metadata": {},
     "output_type": "execute_result"
    }
   ],
   "source": [
    "words_stats = union_DF.describe([\"wordCount\"])\n",
    "words_stats.toPandas()"
   ]
  },
  {
   "cell_type": "markdown",
   "metadata": {},
   "source": [
    "#### Creating a boolean column to categorize users in how much they type: 🤔"
   ]
  },
  {
   "cell_type": "code",
   "execution_count": 19,
   "metadata": {},
   "outputs": [
    {
     "name": "stderr",
     "output_type": "stream",
     "text": [
      "[Stage 14:=======================================================>(90 + 1) / 91]\r"
     ]
    },
    {
     "name": "stdout",
     "output_type": "stream",
     "text": [
      "+---------+------------+\n",
      "|wordCount| TyperStatus|\n",
      "+---------+------------+\n",
      "|        5| short_typer|\n",
      "|       51|  high_typer|\n",
      "|       10|medium_typer|\n",
      "+---------+------------+\n",
      "only showing top 3 rows\n",
      "\n",
      "root\n",
      " |-- name: string (nullable = true)\n",
      " |-- location: string (nullable = true)\n",
      " |-- description: string (nullable = true)\n",
      " |-- twitter_created_at: string (nullable = true)\n",
      " |-- followers_count: long (nullable = true)\n",
      " |-- friends_count: long (nullable = true)\n",
      " |-- favourites_count: long (nullable = true)\n",
      " |-- verified: boolean (nullable = true)\n",
      " |-- created_at: string (nullable = true)\n",
      " |-- text: string (nullable = true)\n",
      " |-- source: string (nullable = true)\n",
      " |-- retweeted: boolean (nullable = true)\n",
      " |-- created_at_date: date (nullable = true)\n",
      " |-- wordCount: integer (nullable = false)\n",
      " |-- TyperStatus: string (nullable = true)\n",
      "\n"
     ]
    },
    {
     "name": "stderr",
     "output_type": "stream",
     "text": [
      "                                                                                \r"
     ]
    }
   ],
   "source": [
    "union_DF = union_DF\\\n",
    "    .withColumn(\"TyperStatus\", when(col(\"wordCount\") <=0, \"no_text\")\\\n",
    "                        .when((col(\"wordCount\")> 0) & (col(\"wordCount\")<=7.76), \"short_typer\")\\\n",
    "                        .when((col(\"wordCount\")> 7.76) & (col(\"wordCount\")<=20.17), \"medium_typer\")\\\n",
    "                        .when((col(\"wordCount\")> 20.17) & (col(\"wordCount\")<=220), \"high_typer\"))\\\n",
    "\n",
    "union_DF.select(\"wordCount\", \"TyperStatus\").distinct().show(3) #called to check if the content was correctly added\n",
    "union_DF.printSchema() #called to check if the column was correctly added"
   ]
  },
  {
   "cell_type": "markdown",
   "metadata": {},
   "source": [
    "#### Bringing colour to the main data frame. Adding emojis by their typing status: 🎊"
   ]
  },
  {
   "cell_type": "code",
   "execution_count": 20,
   "metadata": {
    "scrolled": false
   },
   "outputs": [
    {
     "name": "stderr",
     "output_type": "stream",
     "text": [
      "[Stage 20:=======================================================>(90 + 1) / 91]\r"
     ]
    },
    {
     "name": "stdout",
     "output_type": "stream",
     "text": [
      "+---------+------------+-------+\n",
      "|wordCount| TyperStatus|  emoji|\n",
      "+---------+------------+-------+\n",
      "|        7| short_typer|🙅🏼‍♀️|\n",
      "|       58|  high_typer|     👑|\n",
      "|        8|medium_typer|     😁|\n",
      "+---------+------------+-------+\n",
      "only showing top 3 rows\n",
      "\n",
      "root\n",
      " |-- name: string (nullable = true)\n",
      " |-- location: string (nullable = true)\n",
      " |-- description: string (nullable = true)\n",
      " |-- twitter_created_at: string (nullable = true)\n",
      " |-- followers_count: long (nullable = true)\n",
      " |-- friends_count: long (nullable = true)\n",
      " |-- favourites_count: long (nullable = true)\n",
      " |-- verified: boolean (nullable = true)\n",
      " |-- created_at: string (nullable = true)\n",
      " |-- text: string (nullable = true)\n",
      " |-- source: string (nullable = true)\n",
      " |-- retweeted: boolean (nullable = true)\n",
      " |-- created_at_date: date (nullable = true)\n",
      " |-- wordCount: integer (nullable = false)\n",
      " |-- TyperStatus: string (nullable = true)\n",
      " |-- emoji: string (nullable = true)\n",
      "\n"
     ]
    },
    {
     "name": "stderr",
     "output_type": "stream",
     "text": [
      "                                                                                \r"
     ]
    }
   ],
   "source": [
    "union_DF = union_DF.withColumn(\"emoji\",\n",
    "                    f.when(union_DF[\"TyperStatus\"]==\"short_typer\",f.lit(\"🙅🏼‍♀️\"))\\\n",
    "                      .when(union_DF[\"TyperStatus\"]==\"medium_typer\",f.lit(\"😁\"))\\\n",
    "                      .when(union_DF[\"TyperStatus\"]==\"high_typer\",f.lit(\"👑\"))\\\n",
    "                      .otherwise(f.lit(None)))\n",
    "union_DF.select(\"wordCount\", \"TyperStatus\", \"emoji\").distinct().show(3) #called to check if the content was correctly added\n",
    "union_DF.printSchema() #called to check if the column was correctly added"
   ]
  },
  {
   "cell_type": "markdown",
   "metadata": {},
   "source": [
    "<a id='3'></a>\n",
    "## 3. Analyzing our Data 🕵🏼‍♀️\n"
   ]
  },
  {
   "cell_type": "code",
   "execution_count": 21,
   "metadata": {},
   "outputs": [],
   "source": [
    "import pandas as pd"
   ]
  },
  {
   "cell_type": "markdown",
   "metadata": {},
   "source": [
    "#### 1.Who are the users? Ratio of Verified accounts in the conversation of SquidGame:"
   ]
  },
  {
   "cell_type": "code",
   "execution_count": 22,
   "metadata": {
    "scrolled": true
   },
   "outputs": [
    {
     "name": "stderr",
     "output_type": "stream",
     "text": [
      "                                                                                \r"
     ]
    },
    {
     "data": {
      "text/html": [
       "<div>\n",
       "<style scoped>\n",
       "    .dataframe tbody tr th:only-of-type {\n",
       "        vertical-align: middle;\n",
       "    }\n",
       "\n",
       "    .dataframe tbody tr th {\n",
       "        vertical-align: top;\n",
       "    }\n",
       "\n",
       "    .dataframe thead th {\n",
       "        text-align: right;\n",
       "    }\n",
       "</style>\n",
       "<table border=\"1\" class=\"dataframe\">\n",
       "  <thead>\n",
       "    <tr style=\"text-align: right;\">\n",
       "      <th></th>\n",
       "      <th>verified</th>\n",
       "      <th>Count</th>\n",
       "    </tr>\n",
       "  </thead>\n",
       "  <tbody>\n",
       "    <tr>\n",
       "      <th>0</th>\n",
       "      <td>False</td>\n",
       "      <td>82026</td>\n",
       "    </tr>\n",
       "    <tr>\n",
       "      <th>1</th>\n",
       "      <td>True</td>\n",
       "      <td>3313</td>\n",
       "    </tr>\n",
       "    <tr>\n",
       "      <th>2</th>\n",
       "      <td>None</td>\n",
       "      <td>1090</td>\n",
       "    </tr>\n",
       "  </tbody>\n",
       "</table>\n",
       "</div>"
      ],
      "text/plain": [
       "  verified  Count\n",
       "0    False  82026\n",
       "1     True   3313\n",
       "2     None   1090"
      ]
     },
     "execution_count": 22,
     "metadata": {},
     "output_type": "execute_result"
    }
   ],
   "source": [
    "verified_ratio_df = union_DF.groupBy(\"verified\").agg(count(\"*\").alias(\"Count\")).sort(col(\"Count\").desc())\n",
    "\n",
    "verified_ratio_df.toPandas()\n",
    "\n",
    "# 4% of the users tweeting about SquidGame have verified accounts\n",
    "# 95% have unverified accounts"
   ]
  },
  {
   "cell_type": "markdown",
   "metadata": {},
   "source": [
    "#### 1. Who are the users? Top 5 common users with more tweets published about SquidGame:"
   ]
  },
  {
   "cell_type": "code",
   "execution_count": 23,
   "metadata": {},
   "outputs": [
    {
     "name": "stderr",
     "output_type": "stream",
     "text": [
      "                                                                                \r"
     ]
    },
    {
     "data": {
      "text/html": [
       "<div>\n",
       "<style scoped>\n",
       "    .dataframe tbody tr th:only-of-type {\n",
       "        vertical-align: middle;\n",
       "    }\n",
       "\n",
       "    .dataframe tbody tr th {\n",
       "        vertical-align: top;\n",
       "    }\n",
       "\n",
       "    .dataframe thead th {\n",
       "        text-align: right;\n",
       "    }\n",
       "</style>\n",
       "<table border=\"1\" class=\"dataframe\">\n",
       "  <thead>\n",
       "    <tr style=\"text-align: right;\">\n",
       "      <th></th>\n",
       "      <th>name</th>\n",
       "      <th>Count</th>\n",
       "    </tr>\n",
       "  </thead>\n",
       "  <tbody>\n",
       "    <tr>\n",
       "      <th>0</th>\n",
       "      <td>Sale X Low</td>\n",
       "      <td>478</td>\n",
       "    </tr>\n",
       "    <tr>\n",
       "      <th>1</th>\n",
       "      <td>John Doge</td>\n",
       "      <td>263</td>\n",
       "    </tr>\n",
       "    <tr>\n",
       "      <th>2</th>\n",
       "      <td>7-Ainu</td>\n",
       "      <td>170</td>\n",
       "    </tr>\n",
       "    <tr>\n",
       "      <th>3</th>\n",
       "      <td>Ofofonobs</td>\n",
       "      <td>147</td>\n",
       "    </tr>\n",
       "    <tr>\n",
       "      <th>4</th>\n",
       "      <td>havingalaff</td>\n",
       "      <td>110</td>\n",
       "    </tr>\n",
       "  </tbody>\n",
       "</table>\n",
       "</div>"
      ],
      "text/plain": [
       "          name  Count\n",
       "0   Sale X Low    478\n",
       "1    John Doge    263\n",
       "2       7-Ainu    170\n",
       "3    Ofofonobs    147\n",
       "4  havingalaff    110"
      ]
     },
     "execution_count": 23,
     "metadata": {},
     "output_type": "execute_result"
    }
   ],
   "source": [
    "top_users_df = (union_DF.groupBy(\"name\")\n",
    "          .agg(count(\"*\").alias(\"Count\"))\n",
    "          .orderBy(desc(\"Count\"))\n",
    "          .limit(5))\n",
    "top_users_df.toPandas()"
   ]
  },
  {
   "cell_type": "markdown",
   "metadata": {},
   "source": [
    "#### 1.Who are the users? Verified distinct accounts that talked about SquidGame with highest following:"
   ]
  },
  {
   "cell_type": "code",
   "execution_count": 24,
   "metadata": {},
   "outputs": [
    {
     "name": "stderr",
     "output_type": "stream",
     "text": [
      "                                                                                \r"
     ]
    },
    {
     "data": {
      "text/html": [
       "<div>\n",
       "<style scoped>\n",
       "    .dataframe tbody tr th:only-of-type {\n",
       "        vertical-align: middle;\n",
       "    }\n",
       "\n",
       "    .dataframe tbody tr th {\n",
       "        vertical-align: top;\n",
       "    }\n",
       "\n",
       "    .dataframe thead th {\n",
       "        text-align: right;\n",
       "    }\n",
       "</style>\n",
       "<table border=\"1\" class=\"dataframe\">\n",
       "  <thead>\n",
       "    <tr style=\"text-align: right;\">\n",
       "      <th></th>\n",
       "      <th>Name</th>\n",
       "    </tr>\n",
       "  </thead>\n",
       "  <tbody>\n",
       "    <tr>\n",
       "      <th>0</th>\n",
       "      <td>9GAG</td>\n",
       "    </tr>\n",
       "    <tr>\n",
       "      <th>1</th>\n",
       "      <td>Vogue Magazine</td>\n",
       "    </tr>\n",
       "    <tr>\n",
       "      <th>2</th>\n",
       "      <td>billboard</td>\n",
       "    </tr>\n",
       "    <tr>\n",
       "      <th>3</th>\n",
       "      <td>E! News</td>\n",
       "    </tr>\n",
       "    <tr>\n",
       "      <th>4</th>\n",
       "      <td>Twitter TV</td>\n",
       "    </tr>\n",
       "  </tbody>\n",
       "</table>\n",
       "</div>"
      ],
      "text/plain": [
       "             Name\n",
       "0            9GAG\n",
       "1  Vogue Magazine\n",
       "2       billboard\n",
       "3         E! News\n",
       "4      Twitter TV"
      ]
     },
     "execution_count": 24,
     "metadata": {},
     "output_type": "execute_result"
    }
   ],
   "source": [
    "verified_most_followed = union_DF.where(union_DF[\"verified\"] == \"True\").select(\"Name\").distinct().sort(union_DF[\"followers_count\"].desc())\n",
    "\n",
    "verified_most_followed.toPandas().head()"
   ]
  },
  {
   "cell_type": "markdown",
   "metadata": {},
   "source": [
    "#### 1.Who are the users?  - Top 5 most followed users in our SquidGame Conversation: "
   ]
  },
  {
   "cell_type": "code",
   "execution_count": 27,
   "metadata": {
    "scrolled": true
   },
   "outputs": [
    {
     "name": "stderr",
     "output_type": "stream",
     "text": [
      "                                                                                \r"
     ]
    },
    {
     "data": {
      "text/html": [
       "<div>\n",
       "<style scoped>\n",
       "    .dataframe tbody tr th:only-of-type {\n",
       "        vertical-align: middle;\n",
       "    }\n",
       "\n",
       "    .dataframe tbody tr th {\n",
       "        vertical-align: top;\n",
       "    }\n",
       "\n",
       "    .dataframe thead th {\n",
       "        text-align: right;\n",
       "    }\n",
       "</style>\n",
       "<table border=\"1\" class=\"dataframe\">\n",
       "  <thead>\n",
       "    <tr style=\"text-align: right;\">\n",
       "      <th></th>\n",
       "      <th>name</th>\n",
       "      <th>followers_count</th>\n",
       "    </tr>\n",
       "  </thead>\n",
       "  <tbody>\n",
       "    <tr>\n",
       "      <th>0</th>\n",
       "      <td>9GAG</td>\n",
       "      <td>16846417</td>\n",
       "    </tr>\n",
       "    <tr>\n",
       "      <th>1</th>\n",
       "      <td>Vogue Magazine</td>\n",
       "      <td>14359408</td>\n",
       "    </tr>\n",
       "    <tr>\n",
       "      <th>2</th>\n",
       "      <td>billboard</td>\n",
       "      <td>12588047</td>\n",
       "    </tr>\n",
       "    <tr>\n",
       "      <th>3</th>\n",
       "      <td>E! News</td>\n",
       "      <td>11710347</td>\n",
       "    </tr>\n",
       "    <tr>\n",
       "      <th>4</th>\n",
       "      <td>Twitter TV</td>\n",
       "      <td>9207638</td>\n",
       "    </tr>\n",
       "  </tbody>\n",
       "</table>\n",
       "</div>"
      ],
      "text/plain": [
       "             name  followers_count\n",
       "0            9GAG         16846417\n",
       "1  Vogue Magazine         14359408\n",
       "2       billboard         12588047\n",
       "3         E! News         11710347\n",
       "4      Twitter TV          9207638"
      ]
     },
     "execution_count": 27,
     "metadata": {},
     "output_type": "execute_result"
    }
   ],
   "source": [
    "most_followed_df = (union_DF\n",
    "          .groupBy(\"name\")\n",
    "          .agg(max(\"followers_count\").alias(\"followers_count\"))\n",
    "          .orderBy(desc(\"followers_count\"))\n",
    "          .limit(5))\n",
    "most_followed_df.toPandas()\n",
    "\n",
    "# They ended up being the same as the verified! "
   ]
  },
  {
   "cell_type": "markdown",
   "metadata": {},
   "source": [
    "#### 1.Who are the users? Does size matter? Follower Count with Verification status:\n"
   ]
  },
  {
   "cell_type": "code",
   "execution_count": 28,
   "metadata": {
    "scrolled": true
   },
   "outputs": [
    {
     "name": "stdout",
     "output_type": "stream",
     "text": [
      "+--------+-----+-------------------+-------------------+-------------------+\n",
      "|verified|Count|Max_Followers_Count|Avg_followers_count|Min_Followers_Count|\n",
      "+--------+-----+-------------------+-------------------+-------------------+\n",
      "|   false|76411|             944282|             2226.0|                  0|\n",
      "|    true| 3292|           16846417|           383938.0|                 14|\n",
      "|    null| 1090|              52912|             8494.0|                  1|\n",
      "+--------+-----+-------------------+-------------------+-------------------+\n",
      "\n"
     ]
    }
   ],
   "source": [
    "size_summary = batch_DF.groupBy(\"verified\")\\\n",
    "        .agg(\n",
    "            f.count(\"*\").alias(\"Count\"),\n",
    "            f.max(\"followers_count\").alias(\"Max_Followers_Count\"),\n",
    "            f.round(f.avg(\"followers_count\")).alias(\"Avg_followers_count\"),\n",
    "            f.min(\"followers_count\").alias(\"Min_Followers_Count\"))\\\n",
    "        .sort(f.col(\"Count\").desc())\\\n",
    "        .show(10)\n",
    "\n",
    "size_summary\n",
    "\n",
    "# Here we can see that one of the verified accounts actually has only 14 followers, showing that being verified does not mean large following."
   ]
  },
  {
   "cell_type": "markdown",
   "metadata": {},
   "source": [
    "#### 1.Who are the users? Popularity of Twitter users on the Top 10 locations:"
   ]
  },
  {
   "cell_type": "code",
   "execution_count": 29,
   "metadata": {
    "scrolled": true
   },
   "outputs": [
    {
     "name": "stderr",
     "output_type": "stream",
     "text": [
      "[Stage 44:=======================================================>(90 + 1) / 91]\r"
     ]
    },
    {
     "name": "stdout",
     "output_type": "stream",
     "text": [
      "+--------------------+-----+-------------------+-------------------+-------------------+\n",
      "|            location|Count|Max_Followers_Count|Avg_followers_count|Min_Followers_Count|\n",
      "+--------------------+-----+-------------------+-------------------+-------------------+\n",
      "|           Bollywood|    3|            4607387|          4607315.0|            4607201|\n",
      "|  Back in Studio 6B!|   14|            4441295|          4437418.0|            4436402|\n",
      "|            Universe|   13|           16846417|          4211646.0|                  7|\n",
      "|           Studio 1A|    2|            4200203|          4200052.0|            4199900|\n",
      "|    Karachi,Pakistan|    4|            3699938|          3658578.0|            3640328|\n",
      "|South Kensington,...|    1|            2320525|          2320525.0|            2320525|\n",
      "|      Beijing, China|    6|            4268614|          2173817.0|               1211|\n",
      "|        In the Arena|    1|            2135604|          2135604.0|            2135604|\n",
      "|     DGP HQs LUCKNOW|    1|            1892664|          1892664.0|            1892664|\n",
      "|  San Antonio, Texas|    2|            3478826|          1739870.0|                914|\n",
      "+--------------------+-----+-------------------+-------------------+-------------------+\n",
      "only showing top 10 rows\n",
      "\n"
     ]
    },
    {
     "name": "stderr",
     "output_type": "stream",
     "text": [
      "                                                                                \r"
     ]
    }
   ],
   "source": [
    "union_DF.groupBy(\"location\")\\\n",
    "        .agg(\n",
    "            f.count(\"*\").alias(\"Count\"),\n",
    "            f.max(\"followers_count\").alias(\"Max_Followers_Count\"),\n",
    "            f.round(f.avg(\"followers_count\")).alias(\"Avg_followers_count\"),\n",
    "            f.min(\"followers_count\").alias(\"Min_Followers_Count\"))\\\n",
    "        .sort(f.col(\"Avg_followers_count\").desc())\\\n",
    "        .show(10)\n",
    "\n",
    "# Lakc of data preparation does not allow us to draw a conclusion for this insigths since count should be proportional. "
   ]
  },
  {
   "cell_type": "markdown",
   "metadata": {},
   "source": [
    "#### 2. What are users tweeting about? Tweets of the verified accounts with highest following were:"
   ]
  },
  {
   "cell_type": "code",
   "execution_count": 30,
   "metadata": {},
   "outputs": [
    {
     "name": "stderr",
     "output_type": "stream",
     "text": [
      "                                                                                \r"
     ]
    },
    {
     "data": {
      "text/html": [
       "<div>\n",
       "<style scoped>\n",
       "    .dataframe tbody tr th:only-of-type {\n",
       "        vertical-align: middle;\n",
       "    }\n",
       "\n",
       "    .dataframe tbody tr th {\n",
       "        vertical-align: top;\n",
       "    }\n",
       "\n",
       "    .dataframe thead th {\n",
       "        text-align: right;\n",
       "    }\n",
       "</style>\n",
       "<table border=\"1\" class=\"dataframe\">\n",
       "  <thead>\n",
       "    <tr style=\"text-align: right;\">\n",
       "      <th></th>\n",
       "      <th>Name</th>\n",
       "      <th>text</th>\n",
       "    </tr>\n",
       "  </thead>\n",
       "  <tbody>\n",
       "    <tr>\n",
       "      <th>0</th>\n",
       "      <td>9GAG</td>\n",
       "      <td>Auntie wondering why her snack is so popular these days #SquidGame\\n\\n📹 shinyong412 | IG https://t.co/DISLkVDwUq</td>\n",
       "    </tr>\n",
       "    <tr>\n",
       "      <th>1</th>\n",
       "      <td>9GAG</td>\n",
       "      <td>[🔉] The clock that we didn't know we need #SquidGame\\n\\n📹 gaspar.3d (@3dgaspar) &amp;amp; nanvo | IG https://t.co/oHqvu7uOaS</td>\n",
       "    </tr>\n",
       "    <tr>\n",
       "      <th>2</th>\n",
       "      <td>9GAG</td>\n",
       "      <td>He hasn't been able to go home for a week. #SquidGame\\nhttps://t.co/CYj2kfYh1K</td>\n",
       "    </tr>\n",
       "    <tr>\n",
       "      <th>3</th>\n",
       "      <td>Vogue Magazine</td>\n",
       "      <td>#SquidGame is worth the hype https://t.co/uKzgO87xGm</td>\n",
       "    </tr>\n",
       "    <tr>\n",
       "      <th>4</th>\n",
       "      <td>billboard</td>\n",
       "      <td>Named after the hit Netflix series, Soulja Boy raps over an instrumental of the #SquidGame theme song on his latest… https://t.co/ZUcRGccQY2</td>\n",
       "    </tr>\n",
       "    <tr>\n",
       "      <th>5</th>\n",
       "      <td>billboard</td>\n",
       "      <td>Meek Mill has been paying close attention to Netflix's viral new series #SquidGame, and the rapper thinks he spotte… https://t.co/HMe8tTQ9GY</td>\n",
       "    </tr>\n",
       "    <tr>\n",
       "      <th>6</th>\n",
       "      <td>E! News</td>\n",
       "      <td>What a prrrfect excuse to rewatch #SquidGame. (🎥: @sayanamusic/TikTok) https://t.co/g6NdwPgJV1</td>\n",
       "    </tr>\n",
       "    <tr>\n",
       "      <th>7</th>\n",
       "      <td>Twitter TV</td>\n",
       "      <td>when Gi-hun and Sang-woo face off in #SquidGame \\n\\nhttps://t.co/2S14g5bRhU</td>\n",
       "    </tr>\n",
       "    <tr>\n",
       "      <th>8</th>\n",
       "      <td>Louis Vuitton</td>\n",
       "      <td>#LouisVuitton is pleased to welcome #HoYeonJung. The Netflix #SquidGame star joins as new Global House Ambassador f… https://t.co/UOoBt8YTpD</td>\n",
       "    </tr>\n",
       "    <tr>\n",
       "      <th>9</th>\n",
       "      <td>Hindustan Times</td>\n",
       "      <td>\"#Squid was launched as a \"\"play-to-earn\"\" cryptocurrency for #SquidGame project - an online tournament that will be l… https://t.co/C578BkJs4t\"</td>\n",
       "    </tr>\n",
       "  </tbody>\n",
       "</table>\n",
       "</div>"
      ],
      "text/plain": [
       "              Name  \\\n",
       "0             9GAG   \n",
       "1             9GAG   \n",
       "2             9GAG   \n",
       "3   Vogue Magazine   \n",
       "4        billboard   \n",
       "5        billboard   \n",
       "6          E! News   \n",
       "7       Twitter TV   \n",
       "8    Louis Vuitton   \n",
       "9  Hindustan Times   \n",
       "\n",
       "                                                                                                                                               text  \n",
       "0                                  Auntie wondering why her snack is so popular these days #SquidGame\\n\\n📹 shinyong412 | IG https://t.co/DISLkVDwUq  \n",
       "1                          [🔉] The clock that we didn't know we need #SquidGame\\n\\n📹 gaspar.3d (@3dgaspar) &amp; nanvo | IG https://t.co/oHqvu7uOaS  \n",
       "2                                                                    He hasn't been able to go home for a week. #SquidGame\\nhttps://t.co/CYj2kfYh1K  \n",
       "3                                                                                              #SquidGame is worth the hype https://t.co/uKzgO87xGm  \n",
       "4      Named after the hit Netflix series, Soulja Boy raps over an instrumental of the #SquidGame theme song on his latest… https://t.co/ZUcRGccQY2  \n",
       "5      Meek Mill has been paying close attention to Netflix's viral new series #SquidGame, and the rapper thinks he spotte… https://t.co/HMe8tTQ9GY  \n",
       "6                                                    What a prrrfect excuse to rewatch #SquidGame. (🎥: @sayanamusic/TikTok) https://t.co/g6NdwPgJV1  \n",
       "7                                                                       when Gi-hun and Sang-woo face off in #SquidGame \\n\\nhttps://t.co/2S14g5bRhU  \n",
       "8      #LouisVuitton is pleased to welcome #HoYeonJung. The Netflix #SquidGame star joins as new Global House Ambassador f… https://t.co/UOoBt8YTpD  \n",
       "9  \"#Squid was launched as a \"\"play-to-earn\"\" cryptocurrency for #SquidGame project - an online tournament that will be l… https://t.co/C578BkJs4t\"  "
      ]
     },
     "execution_count": 30,
     "metadata": {},
     "output_type": "execute_result"
    }
   ],
   "source": [
    "verified_most_followed_tweets = union_DF\\\n",
    ".where(union_DF[\"verified\"] == \"True\")\\\n",
    ".select(\"Name\", \"text\")\\\n",
    ".sort(union_DF[\"followers_count\"].desc())\n",
    "\n",
    "verified_most_followed_tweets.toPandas().head(10)"
   ]
  },
  {
   "cell_type": "markdown",
   "metadata": {},
   "source": [
    "#### 2. What are users tweeting about? Top 5 hashtags:"
   ]
  },
  {
   "cell_type": "code",
   "execution_count": 32,
   "metadata": {
    "scrolled": true
   },
   "outputs": [
    {
     "name": "stderr",
     "output_type": "stream",
     "text": [
      "                                                                                \r"
     ]
    },
    {
     "data": {
      "text/html": [
       "<div>\n",
       "<style scoped>\n",
       "    .dataframe tbody tr th:only-of-type {\n",
       "        vertical-align: middle;\n",
       "    }\n",
       "\n",
       "    .dataframe tbody tr th {\n",
       "        vertical-align: top;\n",
       "    }\n",
       "\n",
       "    .dataframe thead th {\n",
       "        text-align: right;\n",
       "    }\n",
       "</style>\n",
       "<table border=\"1\" class=\"dataframe\">\n",
       "  <thead>\n",
       "    <tr style=\"text-align: right;\">\n",
       "      <th></th>\n",
       "      <th>hashtag</th>\n",
       "      <th>total</th>\n",
       "    </tr>\n",
       "  </thead>\n",
       "  <tbody>\n",
       "    <tr>\n",
       "      <th>0</th>\n",
       "      <td>SquidGame</td>\n",
       "      <td>3224</td>\n",
       "    </tr>\n",
       "    <tr>\n",
       "      <th>1</th>\n",
       "      <td>BTS</td>\n",
       "      <td>972</td>\n",
       "    </tr>\n",
       "    <tr>\n",
       "      <th>2</th>\n",
       "      <td>squidgame</td>\n",
       "      <td>442</td>\n",
       "    </tr>\n",
       "    <tr>\n",
       "      <th>3</th>\n",
       "      <td>PTD_ON_STAGE_LA</td>\n",
       "      <td>222</td>\n",
       "    </tr>\n",
       "    <tr>\n",
       "      <th>4</th>\n",
       "      <td>btsfanart</td>\n",
       "      <td>143</td>\n",
       "    </tr>\n",
       "  </tbody>\n",
       "</table>\n",
       "</div>"
      ],
      "text/plain": [
       "           hashtag  total\n",
       "0        SquidGame   3224\n",
       "1              BTS    972\n",
       "2        squidgame    442\n",
       "3  PTD_ON_STAGE_LA    222\n",
       "4        btsfanart    143"
      ]
     },
     "execution_count": 32,
     "metadata": {},
     "output_type": "execute_result"
    }
   ],
   "source": [
    "df = (streaming_general_DF\n",
    "      .select(explode(\"entities.hashtags.text\").alias(\"hashtag\"))\n",
    "      .groupBy(\"hashtag\")\n",
    "      .agg(count(\"*\").alias(\"total\"))\n",
    "      .orderBy(desc(\"total\"))\n",
    "      .limit(5))\n",
    "      \n",
    "df.toPandas()\n",
    "\n",
    "# 60% of the Top 5 hashtags are related to the intersection of K-Pop and SquidGame"
   ]
  },
  {
   "cell_type": "markdown",
   "metadata": {},
   "source": [
    "#### 2. What are users tweeting about? What are the most used words in the conversation?"
   ]
  },
  {
   "cell_type": "code",
   "execution_count": 79,
   "metadata": {
    "scrolled": true
   },
   "outputs": [
    {
     "name": "stderr",
     "output_type": "stream",
     "text": [
      "[Stage 129:======================================================>(90 + 1) / 91]\r"
     ]
    },
    {
     "name": "stdout",
     "output_type": "stream",
     "text": [
      "+----------+-----+\n",
      "|      word|count|\n",
      "+----------+-----+\n",
      "|#SquidGame|43648|\n",
      "|       the|31106|\n",
      "|        to|18227|\n",
      "|         I|17930|\n",
      "|         a|16172|\n",
      "|        is|15493|\n",
      "|       and|15459|\n",
      "|        of|15012|\n",
      "|        in|12219|\n",
      "|          |11197|\n",
      "+----------+-----+\n",
      "only showing top 10 rows\n",
      "\n"
     ]
    },
    {
     "name": "stderr",
     "output_type": "stream",
     "text": [
      "                                                                                \r"
     ]
    }
   ],
   "source": [
    "union_DF.withColumn('word', f.explode(f.split(f.col('text'), ' '))) \\\n",
    "  .groupBy('word') \\\n",
    "  .count() \\\n",
    "  .sort('count', ascending=False) \\\n",
    "  .show(10)\n",
    "\n",
    "# This dataset would need to be furthered cleaned (i.e: drop of buzzwords) for a proper insight to be drawn. "
   ]
  },
  {
   "cell_type": "markdown",
   "metadata": {},
   "source": [
    "#### 3. How are they tweeting? Top 5 Locations:"
   ]
  },
  {
   "cell_type": "code",
   "execution_count": 33,
   "metadata": {},
   "outputs": [
    {
     "name": "stderr",
     "output_type": "stream",
     "text": [
      "                                                                                \r"
     ]
    },
    {
     "data": {
      "text/html": [
       "<div>\n",
       "<style scoped>\n",
       "    .dataframe tbody tr th:only-of-type {\n",
       "        vertical-align: middle;\n",
       "    }\n",
       "\n",
       "    .dataframe tbody tr th {\n",
       "        vertical-align: top;\n",
       "    }\n",
       "\n",
       "    .dataframe thead th {\n",
       "        text-align: right;\n",
       "    }\n",
       "</style>\n",
       "<table border=\"1\" class=\"dataframe\">\n",
       "  <thead>\n",
       "    <tr style=\"text-align: right;\">\n",
       "      <th></th>\n",
       "      <th>location</th>\n",
       "      <th>Count</th>\n",
       "    </tr>\n",
       "  </thead>\n",
       "  <tbody>\n",
       "    <tr>\n",
       "      <th>0</th>\n",
       "      <td>None</td>\n",
       "      <td>26436</td>\n",
       "    </tr>\n",
       "    <tr>\n",
       "      <th>1</th>\n",
       "      <td>Los Angeles, CA</td>\n",
       "      <td>911</td>\n",
       "    </tr>\n",
       "    <tr>\n",
       "      <th>2</th>\n",
       "      <td>London, England</td>\n",
       "      <td>723</td>\n",
       "    </tr>\n",
       "    <tr>\n",
       "      <th>3</th>\n",
       "      <td>USA</td>\n",
       "      <td>716</td>\n",
       "    </tr>\n",
       "    <tr>\n",
       "      <th>4</th>\n",
       "      <td>United States</td>\n",
       "      <td>711</td>\n",
       "    </tr>\n",
       "  </tbody>\n",
       "</table>\n",
       "</div>"
      ],
      "text/plain": [
       "          location  Count\n",
       "0             None  26436\n",
       "1  Los Angeles, CA    911\n",
       "2  London, England    723\n",
       "3              USA    716\n",
       "4    United States    711"
      ]
     },
     "execution_count": 33,
     "metadata": {},
     "output_type": "execute_result"
    }
   ],
   "source": [
    "top_locations_df = (union_DF.groupBy(\"location\")\n",
    "          .agg(count(\"*\").alias(\"Count\"))\n",
    "          .orderBy(desc(\"Count\"))\n",
    "          .limit(5))\n",
    "top_locations_df.toPandas()"
   ]
  },
  {
   "cell_type": "markdown",
   "metadata": {},
   "source": [
    "Since the information in location does not follow a specific format, many rows represent the same values. Hence, we had to increase the show to 20, and make the manual calculations:\n",
    "The top regions are: United States, United Kingdoom, India, Canada & United Arab Emirates."
   ]
  },
  {
   "cell_type": "markdown",
   "metadata": {},
   "source": [
    "#### 3. How are they tweeting? Top 5 sources used by Twitter Users:"
   ]
  },
  {
   "cell_type": "code",
   "execution_count": 81,
   "metadata": {},
   "outputs": [
    {
     "name": "stderr",
     "output_type": "stream",
     "text": [
      "                                                                                \r"
     ]
    },
    {
     "data": {
      "text/html": [
       "<div>\n",
       "<style scoped>\n",
       "    .dataframe tbody tr th:only-of-type {\n",
       "        vertical-align: middle;\n",
       "    }\n",
       "\n",
       "    .dataframe tbody tr th {\n",
       "        vertical-align: top;\n",
       "    }\n",
       "\n",
       "    .dataframe thead th {\n",
       "        text-align: right;\n",
       "    }\n",
       "</style>\n",
       "<table border=\"1\" class=\"dataframe\">\n",
       "  <thead>\n",
       "    <tr style=\"text-align: right;\">\n",
       "      <th></th>\n",
       "      <th>source</th>\n",
       "      <th>Count</th>\n",
       "    </tr>\n",
       "  </thead>\n",
       "  <tbody>\n",
       "    <tr>\n",
       "      <th>0</th>\n",
       "      <td>Twitter for iPhone</td>\n",
       "      <td>31384</td>\n",
       "    </tr>\n",
       "    <tr>\n",
       "      <th>1</th>\n",
       "      <td>Twitter for Android</td>\n",
       "      <td>24084</td>\n",
       "    </tr>\n",
       "    <tr>\n",
       "      <th>2</th>\n",
       "      <td>Twitter Web App</td>\n",
       "      <td>15972</td>\n",
       "    </tr>\n",
       "    <tr>\n",
       "      <th>3</th>\n",
       "      <td>&lt;a href=\"http://twitter.com/download/android\" rel=\"nofollow\"&gt;Twitter for Android&lt;/a&gt;</td>\n",
       "      <td>2756</td>\n",
       "    </tr>\n",
       "    <tr>\n",
       "      <th>4</th>\n",
       "      <td>&lt;a href=\"http://twitter.com/download/iphone\" rel=\"nofollow\"&gt;Twitter for iPhone&lt;/a&gt;</td>\n",
       "      <td>1564</td>\n",
       "    </tr>\n",
       "  </tbody>\n",
       "</table>\n",
       "</div>"
      ],
      "text/plain": [
       "                                                                                 source  \\\n",
       "0                                                                    Twitter for iPhone   \n",
       "1                                                                   Twitter for Android   \n",
       "2                                                                       Twitter Web App   \n",
       "3  <a href=\"http://twitter.com/download/android\" rel=\"nofollow\">Twitter for Android</a>   \n",
       "4    <a href=\"http://twitter.com/download/iphone\" rel=\"nofollow\">Twitter for iPhone</a>   \n",
       "\n",
       "   Count  \n",
       "0  31384  \n",
       "1  24084  \n",
       "2  15972  \n",
       "3   2756  \n",
       "4   1564  "
      ]
     },
     "execution_count": 81,
     "metadata": {},
     "output_type": "execute_result"
    }
   ],
   "source": [
    "sources_ratio_df = (union_DF.groupBy(\"source\")\n",
    "          .agg(count(\"*\").alias(\"Count\"))\n",
    "          .orderBy(desc(\"Count\"))\n",
    "          .limit(5))\n",
    "sources_ratio_df.toPandas()"
   ]
  },
  {
   "cell_type": "markdown",
   "metadata": {},
   "source": [
    "#### 3. How are they tweeting? Does typing status matter per operating system?"
   ]
  },
  {
   "cell_type": "code",
   "execution_count": 135,
   "metadata": {
    "scrolled": true
   },
   "outputs": [
    {
     "name": "stderr",
     "output_type": "stream",
     "text": [
      "                                                                                \r"
     ]
    },
    {
     "data": {
      "text/html": [
       "<div>\n",
       "<style scoped>\n",
       "    .dataframe tbody tr th:only-of-type {\n",
       "        vertical-align: middle;\n",
       "    }\n",
       "\n",
       "    .dataframe tbody tr th {\n",
       "        vertical-align: top;\n",
       "    }\n",
       "\n",
       "    .dataframe thead th {\n",
       "        text-align: right;\n",
       "    }\n",
       "</style>\n",
       "<table border=\"1\" class=\"dataframe\">\n",
       "  <thead>\n",
       "    <tr style=\"text-align: right;\">\n",
       "      <th></th>\n",
       "      <th>source</th>\n",
       "      <th>TyperStatus</th>\n",
       "      <th>count</th>\n",
       "    </tr>\n",
       "  </thead>\n",
       "  <tbody>\n",
       "    <tr>\n",
       "      <th>0</th>\n",
       "      <td>Twitter for iPhone</td>\n",
       "      <td>medium_typer</td>\n",
       "      <td>19674</td>\n",
       "    </tr>\n",
       "    <tr>\n",
       "      <th>1</th>\n",
       "      <td>Twitter for Android</td>\n",
       "      <td>medium_typer</td>\n",
       "      <td>15834</td>\n",
       "    </tr>\n",
       "    <tr>\n",
       "      <th>2</th>\n",
       "      <td>Twitter Web App</td>\n",
       "      <td>medium_typer</td>\n",
       "      <td>11033</td>\n",
       "    </tr>\n",
       "    <tr>\n",
       "      <th>3</th>\n",
       "      <td>Twitter for iPhone</td>\n",
       "      <td>high_typer</td>\n",
       "      <td>5908</td>\n",
       "    </tr>\n",
       "    <tr>\n",
       "      <th>4</th>\n",
       "      <td>Twitter for iPhone</td>\n",
       "      <td>short_typer</td>\n",
       "      <td>5802</td>\n",
       "    </tr>\n",
       "    <tr>\n",
       "      <th>5</th>\n",
       "      <td>Twitter for Android</td>\n",
       "      <td>high_typer</td>\n",
       "      <td>4245</td>\n",
       "    </tr>\n",
       "    <tr>\n",
       "      <th>6</th>\n",
       "      <td>Twitter for Android</td>\n",
       "      <td>short_typer</td>\n",
       "      <td>4005</td>\n",
       "    </tr>\n",
       "    <tr>\n",
       "      <th>7</th>\n",
       "      <td>Twitter Web App</td>\n",
       "      <td>high_typer</td>\n",
       "      <td>2958</td>\n",
       "    </tr>\n",
       "    <tr>\n",
       "      <th>8</th>\n",
       "      <td>Twitter Web App</td>\n",
       "      <td>short_typer</td>\n",
       "      <td>1981</td>\n",
       "    </tr>\n",
       "    <tr>\n",
       "      <th>9</th>\n",
       "      <td>&lt;a href=\"http://twitter.com/download/android\" rel=\"nofollow\"&gt;Twitter for Android&lt;/a&gt;</td>\n",
       "      <td>medium_typer</td>\n",
       "      <td>1865</td>\n",
       "    </tr>\n",
       "  </tbody>\n",
       "</table>\n",
       "</div>"
      ],
      "text/plain": [
       "                                                                                 source  \\\n",
       "0                                                                    Twitter for iPhone   \n",
       "1                                                                   Twitter for Android   \n",
       "2                                                                       Twitter Web App   \n",
       "3                                                                    Twitter for iPhone   \n",
       "4                                                                    Twitter for iPhone   \n",
       "5                                                                   Twitter for Android   \n",
       "6                                                                   Twitter for Android   \n",
       "7                                                                       Twitter Web App   \n",
       "8                                                                       Twitter Web App   \n",
       "9  <a href=\"http://twitter.com/download/android\" rel=\"nofollow\">Twitter for Android</a>   \n",
       "\n",
       "    TyperStatus  count  \n",
       "0  medium_typer  19674  \n",
       "1  medium_typer  15834  \n",
       "2  medium_typer  11033  \n",
       "3    high_typer   5908  \n",
       "4   short_typer   5802  \n",
       "5    high_typer   4245  \n",
       "6   short_typer   4005  \n",
       "7    high_typer   2958  \n",
       "8   short_typer   1981  \n",
       "9  medium_typer   1865  "
      ]
     },
     "execution_count": 135,
     "metadata": {},
     "output_type": "execute_result"
    }
   ],
   "source": [
    "status_by_op_system = (union_DF\\\n",
    "      .select('source', \"TyperStatus\"))\\\n",
    "      .groupBy('source', \"TyperStatus\")\\\n",
    "      .agg(count(\"*\").alias(\"count\"))\\\n",
    "      .orderBy(desc('count'))\\\n",
    "    .limit(10)\n",
    "\n",
    "status_by_op_system.toPandas()\n",
    "\n",
    "\n",
    "# Users that use Iphones tweet more than other uses with other systems."
   ]
  },
  {
   "cell_type": "markdown",
   "metadata": {},
   "source": [
    "#### 3. How are they tweeting? What is the language most used in the conversation?:"
   ]
  },
  {
   "cell_type": "code",
   "execution_count": 34,
   "metadata": {
    "scrolled": true
   },
   "outputs": [
    {
     "name": "stderr",
     "output_type": "stream",
     "text": [
      "[Stage 56:===================================================>    (82 + 4) / 90]\r"
     ]
    },
    {
     "name": "stdout",
     "output_type": "stream",
     "text": [
      "+----+-----+\n",
      "|lang|Count|\n",
      "+----+-----+\n",
      "|  en| 3658|\n",
      "+----+-----+\n",
      "only showing top 1 row\n",
      "\n"
     ]
    },
    {
     "name": "stderr",
     "output_type": "stream",
     "text": [
      "                                                                                \r"
     ]
    }
   ],
   "source": [
    "streaming_general_DF.groupBy(\"lang\")\\\n",
    "       .agg(\n",
    "        count(\"*\").alias(\"Count\"))\\\n",
    "        .sort(col(\"Count\").desc())\\\n",
    "        .show(1)\n",
    "\n",
    "#English is the most used language! "
   ]
  },
  {
   "cell_type": "markdown",
   "metadata": {},
   "source": [
    "#### 3. How are they tweeting? Average of words per tweet using the #SquidGame:"
   ]
  },
  {
   "cell_type": "code",
   "execution_count": 35,
   "metadata": {
    "scrolled": true
   },
   "outputs": [
    {
     "name": "stderr",
     "output_type": "stream",
     "text": [
      "                                                                                \r"
     ]
    },
    {
     "data": {
      "text/html": [
       "<div>\n",
       "<style scoped>\n",
       "    .dataframe tbody tr th:only-of-type {\n",
       "        vertical-align: middle;\n",
       "    }\n",
       "\n",
       "    .dataframe tbody tr th {\n",
       "        vertical-align: top;\n",
       "    }\n",
       "\n",
       "    .dataframe thead th {\n",
       "        text-align: right;\n",
       "    }\n",
       "</style>\n",
       "<table border=\"1\" class=\"dataframe\">\n",
       "  <thead>\n",
       "    <tr style=\"text-align: right;\">\n",
       "      <th></th>\n",
       "      <th>Average of Words per Tweet</th>\n",
       "    </tr>\n",
       "  </thead>\n",
       "  <tbody>\n",
       "    <tr>\n",
       "      <th>0</th>\n",
       "      <td>13.966632</td>\n",
       "    </tr>\n",
       "  </tbody>\n",
       "</table>\n",
       "</div>"
      ],
      "text/plain": [
       "   Average of Words per Tweet\n",
       "0                   13.966632"
      ]
     },
     "execution_count": 35,
     "metadata": {},
     "output_type": "execute_result"
    }
   ],
   "source": [
    "union_DF.select(avg(size(split(\"text\", \" \"))).alias(\"Average of Words per Tweet\")).toPandas()"
   ]
  },
  {
   "cell_type": "markdown",
   "metadata": {},
   "source": [
    "#### 3. How are they tweeting? What are the Max and Average Number of Hashtags per tweet?"
   ]
  },
  {
   "cell_type": "code",
   "execution_count": 36,
   "metadata": {
    "scrolled": false
   },
   "outputs": [
    {
     "name": "stderr",
     "output_type": "stream",
     "text": [
      "                                                                                \r"
     ]
    },
    {
     "data": {
      "text/html": [
       "<div>\n",
       "<style scoped>\n",
       "    .dataframe tbody tr th:only-of-type {\n",
       "        vertical-align: middle;\n",
       "    }\n",
       "\n",
       "    .dataframe tbody tr th {\n",
       "        vertical-align: top;\n",
       "    }\n",
       "\n",
       "    .dataframe thead th {\n",
       "        text-align: right;\n",
       "    }\n",
       "</style>\n",
       "<table border=\"1\" class=\"dataframe\">\n",
       "  <thead>\n",
       "    <tr style=\"text-align: right;\">\n",
       "      <th></th>\n",
       "      <th>max # per tweet</th>\n",
       "      <th>average # per tweet</th>\n",
       "    </tr>\n",
       "  </thead>\n",
       "  <tbody>\n",
       "    <tr>\n",
       "      <th>0</th>\n",
       "      <td>23</td>\n",
       "      <td>2.293116</td>\n",
       "    </tr>\n",
       "  </tbody>\n",
       "</table>\n",
       "</div>"
      ],
      "text/plain": [
       "   max # per tweet  average # per tweet\n",
       "0               23             2.293116"
      ]
     },
     "execution_count": 36,
     "metadata": {},
     "output_type": "execute_result"
    }
   ],
   "source": [
    "streaming_general_DF.select(\n",
    "            max(size(\"entities.hashtags\")).alias(\"max # per tweet\"),\n",
    "            avg(size(\"entities.hashtags\")).alias(\"average # per tweet\")\n",
    ").toPandas()"
   ]
  },
  {
   "cell_type": "markdown",
   "metadata": {},
   "source": [
    "#### 3. How are they tweeting? Ratio of typer status: "
   ]
  },
  {
   "cell_type": "code",
   "execution_count": 37,
   "metadata": {
    "scrolled": false
   },
   "outputs": [
    {
     "name": "stderr",
     "output_type": "stream",
     "text": [
      "                                                                                \r"
     ]
    },
    {
     "data": {
      "text/html": [
       "<div>\n",
       "<style scoped>\n",
       "    .dataframe tbody tr th:only-of-type {\n",
       "        vertical-align: middle;\n",
       "    }\n",
       "\n",
       "    .dataframe tbody tr th {\n",
       "        vertical-align: top;\n",
       "    }\n",
       "\n",
       "    .dataframe thead th {\n",
       "        text-align: right;\n",
       "    }\n",
       "</style>\n",
       "<table border=\"1\" class=\"dataframe\">\n",
       "  <thead>\n",
       "    <tr style=\"text-align: right;\">\n",
       "      <th></th>\n",
       "      <th>emoji</th>\n",
       "      <th>TyperStatus</th>\n",
       "      <th>Count</th>\n",
       "    </tr>\n",
       "  </thead>\n",
       "  <tbody>\n",
       "    <tr>\n",
       "      <th>0</th>\n",
       "      <td>😁</td>\n",
       "      <td>medium_typer</td>\n",
       "      <td>56551</td>\n",
       "    </tr>\n",
       "    <tr>\n",
       "      <th>1</th>\n",
       "      <td>👑</td>\n",
       "      <td>high_typer</td>\n",
       "      <td>14962</td>\n",
       "    </tr>\n",
       "    <tr>\n",
       "      <th>2</th>\n",
       "      <td>🙅🏼‍♀️</td>\n",
       "      <td>short_typer</td>\n",
       "      <td>14137</td>\n",
       "    </tr>\n",
       "    <tr>\n",
       "      <th>3</th>\n",
       "      <td>None</td>\n",
       "      <td>no_text</td>\n",
       "      <td>779</td>\n",
       "    </tr>\n",
       "  </tbody>\n",
       "</table>\n",
       "</div>"
      ],
      "text/plain": [
       "   emoji   TyperStatus  Count\n",
       "0      😁  medium_typer  56551\n",
       "1      👑    high_typer  14962\n",
       "2  🙅🏼‍♀️   short_typer  14137\n",
       "3   None       no_text    779"
      ]
     },
     "execution_count": 37,
     "metadata": {},
     "output_type": "execute_result"
    }
   ],
   "source": [
    "emoji_ratio_df = (union_DF.groupBy(\"emoji\",lower(\"TyperStatus\").alias(\"TyperStatus\"))\n",
    "          .agg(count(\"*\").alias(\"Count\"))\n",
    "          .orderBy(desc(\"Count\"))\n",
    "          .limit(5))\n",
    "emoji_ratio_df.toPandas()\n",
    "\n",
    "#65% of users are medium typers! 😁"
   ]
  },
  {
   "cell_type": "markdown",
   "metadata": {},
   "source": [
    "#### 3. How are they tweeting?  Chain ideas: Were tweets retweeted?"
   ]
  },
  {
   "cell_type": "code",
   "execution_count": 38,
   "metadata": {},
   "outputs": [
    {
     "name": "stderr",
     "output_type": "stream",
     "text": [
      "                                                                                \r"
     ]
    },
    {
     "data": {
      "text/html": [
       "<div>\n",
       "<style scoped>\n",
       "    .dataframe tbody tr th:only-of-type {\n",
       "        vertical-align: middle;\n",
       "    }\n",
       "\n",
       "    .dataframe tbody tr th {\n",
       "        vertical-align: top;\n",
       "    }\n",
       "\n",
       "    .dataframe thead th {\n",
       "        text-align: right;\n",
       "    }\n",
       "</style>\n",
       "<table border=\"1\" class=\"dataframe\">\n",
       "  <thead>\n",
       "    <tr style=\"text-align: right;\">\n",
       "      <th></th>\n",
       "      <th>retweeted</th>\n",
       "      <th>Count</th>\n",
       "    </tr>\n",
       "  </thead>\n",
       "  <tbody>\n",
       "    <tr>\n",
       "      <th>0</th>\n",
       "      <td>False</td>\n",
       "      <td>84250</td>\n",
       "    </tr>\n",
       "    <tr>\n",
       "      <th>1</th>\n",
       "      <td>None</td>\n",
       "      <td>2179</td>\n",
       "    </tr>\n",
       "  </tbody>\n",
       "</table>\n",
       "</div>"
      ],
      "text/plain": [
       "  retweeted  Count\n",
       "0     False  84250\n",
       "1      None   2179"
      ]
     },
     "execution_count": 38,
     "metadata": {},
     "output_type": "execute_result"
    }
   ],
   "source": [
    "sources_ratio_df = (union_DF.groupBy(\"retweeted\")\n",
    "          .agg(count(\"*\").alias(\"Count\"))\n",
    "          .orderBy(desc(\"Count\"))\n",
    "          .limit(5))\n",
    "sources_ratio_df.toPandas()\n",
    "\n",
    "#No tweets were retweeted!"
   ]
  },
  {
   "cell_type": "markdown",
   "metadata": {},
   "source": [
    "#### 3. How are they tweeting? Checking how many had their geotag enabled:"
   ]
  },
  {
   "cell_type": "code",
   "execution_count": 39,
   "metadata": {},
   "outputs": [
    {
     "name": "stderr",
     "output_type": "stream",
     "text": [
      "                                                                                \r"
     ]
    },
    {
     "data": {
      "text/plain": [
       "1081"
      ]
     },
     "execution_count": 39,
     "metadata": {},
     "output_type": "execute_result"
    }
   ],
   "source": [
    "streaming_general_DF.where(\"user.geo_enabled=true\").select(\"user.id\").distinct().count()\n",
    "\n",
    "#1081 accounts had their geo tag enabled."
   ]
  },
  {
   "cell_type": "markdown",
   "metadata": {},
   "source": [
    "#### 3. How are they tweeting? How much are users tweeting by date? Can you find a pattern?"
   ]
  },
  {
   "cell_type": "code",
   "execution_count": 87,
   "metadata": {},
   "outputs": [
    {
     "name": "stderr",
     "output_type": "stream",
     "text": [
      "                                                                                \r"
     ]
    }
   ],
   "source": [
    "date_count_df = (union_DF.groupBy(\"created_at_date\")\n",
    "          .agg(count(\"*\").alias(\"Count\"))\n",
    "          .orderBy(asc(\"created_at_date\")))\n",
    "\n",
    "date_count_df.toPandas().to_csv('date_count_df.csv') #to download dates and tweet count as a .csv file for graph ploting\n",
    "\n",
    "#After analyzing the CSV document and showed in the presentation, we found that the conversation is indeed declining since its release date."
   ]
  },
  {
   "cell_type": "markdown",
   "metadata": {},
   "source": [
    "#### 3. How are they tweeting? Is there a pattern between typer_status and the date in which tweets were tweeted?"
   ]
  },
  {
   "cell_type": "code",
   "execution_count": 119,
   "metadata": {},
   "outputs": [
    {
     "name": "stderr",
     "output_type": "stream",
     "text": [
      "                                                                                \r"
     ]
    }
   ],
   "source": [
    "typer_status_by_date = (union_DF\\\n",
    "      .select('created_at_date', \"TyperStatus\"))\\\n",
    "      .groupBy('created_at_date', \"TyperStatus\")\\\n",
    "      .agg(count(\"*\").alias(\"count\"))\\\n",
    "      .orderBy(asc('created_at_date'))\n",
    "\n",
    "typer_status_by_date = typer_status_by_date.toPandas()\n",
    "typer_status_by_date\n",
    "\n",
    "typer_status_by_date.to_csv('typer_status_by_date') #to create csv document to be analyzed]\n",
    "\n",
    "#After analyzing the CSV file, no pattern was found!"
   ]
  },
  {
   "cell_type": "markdown",
   "metadata": {},
   "source": [
    "#### 3. How are they tweeting? Is there a pattern between verified accounts and when they type?"
   ]
  },
  {
   "cell_type": "code",
   "execution_count": 112,
   "metadata": {},
   "outputs": [
    {
     "name": "stderr",
     "output_type": "stream",
     "text": [
      "                                                                                \r"
     ]
    }
   ],
   "source": [
    "verified_by_date = (union_DF\\\n",
    "      .select('created_at_date', \"verified\"))\\\n",
    "      .groupBy('created_at_date', \"verified\")\\\n",
    "      .agg(count(\"*\").alias(\"count\"))\\\n",
    "      .orderBy(asc('created_at_date'))\\\n",
    "    .filter(union_DF.verified == True)\n",
    "\n",
    "verified_by_date = verified_by_date.toPandas()\n",
    "verified_by_date\n",
    "verified_by_date.to_csv('verified_by_date')\n",
    "\n",
    "#After analyzing the CSV, when have found that as the hype decreases, so does the tweets of verified accounts. "
   ]
  },
  {
   "cell_type": "code",
   "execution_count": 114,
   "metadata": {},
   "outputs": [
    {
     "name": "stderr",
     "output_type": "stream",
     "text": [
      "                                                                                \r"
     ]
    },
    {
     "data": {
      "text/plain": [
       "3313"
      ]
     },
     "execution_count": 114,
     "metadata": {},
     "output_type": "execute_result"
    }
   ],
   "source": [
    "union_DF.filter(union_DF.verified == True).count() # to find how many tweets by verified accounts"
   ]
  },
  {
   "cell_type": "markdown",
   "metadata": {},
   "source": [
    "#### To understand the integers in our dataframe:"
   ]
  },
  {
   "cell_type": "code",
   "execution_count": 89,
   "metadata": {
    "scrolled": false
   },
   "outputs": [
    {
     "name": "stderr",
     "output_type": "stream",
     "text": [
      "                                                                                \r"
     ]
    },
    {
     "data": {
      "text/html": [
       "<div>\n",
       "<style scoped>\n",
       "    .dataframe tbody tr th:only-of-type {\n",
       "        vertical-align: middle;\n",
       "    }\n",
       "\n",
       "    .dataframe tbody tr th {\n",
       "        vertical-align: top;\n",
       "    }\n",
       "\n",
       "    .dataframe thead th {\n",
       "        text-align: right;\n",
       "    }\n",
       "</style>\n",
       "<table border=\"1\" class=\"dataframe\">\n",
       "  <thead>\n",
       "    <tr style=\"text-align: right;\">\n",
       "      <th></th>\n",
       "      <th>summary</th>\n",
       "      <th>followers_count</th>\n",
       "      <th>friends_count</th>\n",
       "      <th>favourites_count</th>\n",
       "    </tr>\n",
       "  </thead>\n",
       "  <tbody>\n",
       "    <tr>\n",
       "      <th>0</th>\n",
       "      <td>count</td>\n",
       "      <td>85436</td>\n",
       "      <td>85464</td>\n",
       "      <td>85523</td>\n",
       "    </tr>\n",
       "    <tr>\n",
       "      <th>1</th>\n",
       "      <td>mean</td>\n",
       "      <td>17067.772917739596</td>\n",
       "      <td>1058.3278456426096</td>\n",
       "      <td>18480.792278100627</td>\n",
       "    </tr>\n",
       "    <tr>\n",
       "      <th>2</th>\n",
       "      <td>stddev</td>\n",
       "      <td>238012.74928652175</td>\n",
       "      <td>6556.1210423413995</td>\n",
       "      <td>48883.9275267829</td>\n",
       "    </tr>\n",
       "    <tr>\n",
       "      <th>3</th>\n",
       "      <td>min</td>\n",
       "      <td>0</td>\n",
       "      <td>0</td>\n",
       "      <td>0</td>\n",
       "    </tr>\n",
       "    <tr>\n",
       "      <th>4</th>\n",
       "      <td>max</td>\n",
       "      <td>16846417</td>\n",
       "      <td>1211576</td>\n",
       "      <td>1144792</td>\n",
       "    </tr>\n",
       "  </tbody>\n",
       "</table>\n",
       "</div>"
      ],
      "text/plain": [
       "  summary     followers_count       friends_count    favourites_count\n",
       "0   count               85436               85464               85523\n",
       "1    mean  17067.772917739596  1058.3278456426096  18480.792278100627\n",
       "2  stddev  238012.74928652175  6556.1210423413995    48883.9275267829\n",
       "3     min                   0                   0                   0\n",
       "4     max            16846417             1211576             1144792"
      ]
     },
     "execution_count": 89,
     "metadata": {},
     "output_type": "execute_result"
    }
   ],
   "source": [
    "union_stats = union_DF.describe([\"followers_count\", \"friends_count\", \"favourites_count\"])\n",
    "union_stats.toPandas()"
   ]
  },
  {
   "cell_type": "markdown",
   "metadata": {},
   "source": [
    "<a id='4'></a>\n",
    "## 4. Tear Down"
   ]
  },
  {
   "cell_type": "markdown",
   "metadata": {},
   "source": [
    "Stop Hadoop\n",
    "\n",
    "Open a terminal and execute\n",
    "```sh\n",
    "hadoop-stop.sh\n",
    "```"
   ]
  }
 ],
 "metadata": {
  "kernelspec": {
   "display_name": "Python 3 (ipykernel)",
   "language": "python",
   "name": "python3"
  },
  "language_info": {
   "codemirror_mode": {
    "name": "ipython",
    "version": 3
   },
   "file_extension": ".py",
   "mimetype": "text/x-python",
   "name": "python",
   "nbconvert_exporter": "python",
   "pygments_lexer": "ipython3",
   "version": "3.7.3"
  }
 },
 "nbformat": 4,
 "nbformat_minor": 4
}
